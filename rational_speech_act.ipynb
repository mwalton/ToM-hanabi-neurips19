{
 "cells": [
  {
   "cell_type": "code",
   "execution_count": 97,
   "metadata": {},
   "outputs": [],
   "source": [
    "import numpy as np"
   ]
  },
  {
   "cell_type": "code",
   "execution_count": 100,
   "metadata": {},
   "outputs": [
    {
     "data": {
      "text/plain": [
       "{('blue', 'one'), ('red', 'one'), ('red', 'two')}"
      ]
     },
     "execution_count": 100,
     "metadata": {},
     "output_type": "execute_result"
    }
   ],
   "source": [
    "C"
   ]
  },
  {
   "cell_type": "code",
   "execution_count": 132,
   "metadata": {},
   "outputs": [],
   "source": [
    "C = [('red', 'one'),\n",
    "     ('blue', 'one'),\n",
    "     ('red', 'two')]\n",
    "U = ['red', 'blue', 'one', 'two']\n",
    "P = np.array([1. / 3.] * 3)\n",
    "M = np.zeros((len(U), len(C)))\n",
    "\n",
    "# inverse temperature; how rational speaker is\n",
    "alpha = 1.\n",
    "# utterance cost function\n",
    "kappa = np.array([0., 0., 0.])\n",
    "\n",
    "# configure meaning function\n",
    "for i, u in enumerate(U):\n",
    "    for j, t in enumerate(C):\n",
    "        M[i,j] = 1. if u in t else 0."
   ]
  },
  {
   "cell_type": "code",
   "execution_count": 133,
   "metadata": {},
   "outputs": [
    {
     "name": "stderr",
     "output_type": "stream",
     "text": [
      "/Users/mwalton/miniconda3/envs/plot/lib/python3.7/site-packages/ipykernel_launcher.py:6: RuntimeWarning: divide by zero encountered in log\n",
      "  \n"
     ]
    }
   ],
   "source": [
    "##### Listener Model ######\n",
    "# literal listener\n",
    "L_0 = M * P\n",
    "\n",
    "# pragmatic speaker\n",
    "S_1 = np.exp(alpha * (np.log(L_0) - kappa))\n",
    "\n",
    "# pragmatic listener\n",
    "L_2 = S_1 * P"
   ]
  },
  {
   "cell_type": "markdown",
   "metadata": {},
   "source": [
    "assuming constant alpha = 1, kappa = 0 for all u"
   ]
  },
  {
   "cell_type": "code",
   "execution_count": 151,
   "metadata": {},
   "outputs": [
    {
     "data": {
      "text/plain": [
       "array([[0.5       , 0.        , 0.33333333],\n",
       "       [0.        , 0.66666667, 0.        ],\n",
       "       [0.5       , 0.33333333, 0.        ],\n",
       "       [0.        , 0.        , 0.66666667]])"
      ]
     },
     "execution_count": 151,
     "metadata": {},
     "output_type": "execute_result"
    }
   ],
   "source": [
    "# Pragmatic Speaker\n",
    "S_0 = M / np.sum(M, axis=0, keepdims=True)\n",
    "L_1 = S_0 / np.sum(S_0, axis=1, keepdims=True)\n",
    "S_2 = L_1 / np.sum(L_1, axis=0, keepdims=True)\n",
    "\n",
    "# Pragmatic Listener\n",
    "L_0 =  M / np.sum(M, axis=1, keepdims=True)\n",
    "S_1 = L_0 / np.sum(L_0, axis=0, keepdims=True)\n",
    "L_2 = S_1 / np.sum(S_1, axis=1, keepdims=True)\n",
    "\n",
    "S_2"
   ]
  },
  {
   "cell_type": "code",
   "execution_count": 1,
   "metadata": {},
   "outputs": [
    {
     "name": "stdout",
     "output_type": "stream",
     "text": [
      "\u001b[1m\u001b[31mWarning: Empirical distributions on disk may perform slow because GNU DBM is not available. Please install and configure gdbm library for Python for better speed.\u001b[0m\n"
     ]
    }
   ],
   "source": [
    "import math\n",
    "import pyprob\n",
    "from pyprob import Model\n",
    "from pyprob.distributions import Uniform"
   ]
  },
  {
   "cell_type": "code",
   "execution_count": 84,
   "metadata": {},
   "outputs": [],
   "source": [
    "class ReferenceGame(Model):\n",
    "    def __init__(self):\n",
    "        super().__init__(name=\"Reference Game World Model\")\n",
    "        self.support = [('red', 'one'),\n",
    "                        ('blue', 'one'),\n",
    "                        ('red', 'two')]\n",
    "    \n",
    "    def forward(self):\n",
    "        idx = Uniform(0, len(self.support)).sample()\n",
    "        return self.support[idx.int().item()]\n",
    "\n",
    "def meaning(hint, world):\n",
    "    return hint in world"
   ]
  },
  {
   "cell_type": "code",
   "execution_count": 85,
   "metadata": {},
   "outputs": [],
   "source": [
    "world_prior = ReferenceGame()\n",
    "hints = ['red', 'blue', 'one', 'two']\n",
    "w = world_prior.forward()"
   ]
  },
  {
   "cell_type": "code",
   "execution_count": 90,
   "metadata": {},
   "outputs": [
    {
     "data": {
      "text/plain": [
       "True"
      ]
     },
     "execution_count": 90,
     "metadata": {},
     "output_type": "execute_result"
    }
   ],
   "source": [
    "meaning('one', w)"
   ]
  },
  {
   "cell_type": "code",
   "execution_count": 91,
   "metadata": {},
   "outputs": [
    {
     "data": {
      "text/plain": [
       "('blue', 'one')"
      ]
     },
     "execution_count": 91,
     "metadata": {},
     "output_type": "execute_result"
    }
   ],
   "source": [
    "w"
   ]
  },
  {
   "cell_type": "code",
   "execution_count": null,
   "metadata": {},
   "outputs": [],
   "source": []
  }
 ],
 "metadata": {
  "kernelspec": {
   "display_name": "Python 3",
   "language": "python",
   "name": "python3"
  },
  "language_info": {
   "codemirror_mode": {
    "name": "ipython",
    "version": 3
   },
   "file_extension": ".py",
   "mimetype": "text/x-python",
   "name": "python",
   "nbconvert_exporter": "python",
   "pygments_lexer": "ipython3",
   "version": "3.7.3"
  }
 },
 "nbformat": 4,
 "nbformat_minor": 2
}
